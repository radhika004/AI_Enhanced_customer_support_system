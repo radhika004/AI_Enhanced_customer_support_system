{
  "cells": [
    {
      "cell_type": "markdown",
      "source": [
        "Sentiment analysis using groq api\n"
      ],
      "metadata": {
        "id": "viBpe_Ud8CXf"
      }
    },
    {
      "cell_type": "code",
      "source": [
        "!pip install groq"
      ],
      "metadata": {
        "colab": {
          "base_uri": "https://localhost:8080/"
        },
        "id": "44hpOkqG2Jzl",
        "outputId": "db664d7b-43e8-4a05-85ed-38c798088945"
      },
      "execution_count": null,
      "outputs": [
        {
          "output_type": "stream",
          "name": "stdout",
          "text": [
            "Collecting groq\n",
            "  Downloading groq-0.15.0-py3-none-any.whl.metadata (14 kB)\n",
            "Requirement already satisfied: anyio<5,>=3.5.0 in /usr/local/lib/python3.11/dist-packages (from groq) (3.7.1)\n",
            "Requirement already satisfied: distro<2,>=1.7.0 in /usr/local/lib/python3.11/dist-packages (from groq) (1.9.0)\n",
            "Requirement already satisfied: httpx<1,>=0.23.0 in /usr/local/lib/python3.11/dist-packages (from groq) (0.28.1)\n",
            "Requirement already satisfied: pydantic<3,>=1.9.0 in /usr/local/lib/python3.11/dist-packages (from groq) (2.10.5)\n",
            "Requirement already satisfied: sniffio in /usr/local/lib/python3.11/dist-packages (from groq) (1.3.1)\n",
            "Requirement already satisfied: typing-extensions<5,>=4.10 in /usr/local/lib/python3.11/dist-packages (from groq) (4.12.2)\n",
            "Requirement already satisfied: idna>=2.8 in /usr/local/lib/python3.11/dist-packages (from anyio<5,>=3.5.0->groq) (3.10)\n",
            "Requirement already satisfied: certifi in /usr/local/lib/python3.11/dist-packages (from httpx<1,>=0.23.0->groq) (2024.12.14)\n",
            "Requirement already satisfied: httpcore==1.* in /usr/local/lib/python3.11/dist-packages (from httpx<1,>=0.23.0->groq) (1.0.7)\n",
            "Requirement already satisfied: h11<0.15,>=0.13 in /usr/local/lib/python3.11/dist-packages (from httpcore==1.*->httpx<1,>=0.23.0->groq) (0.14.0)\n",
            "Requirement already satisfied: annotated-types>=0.6.0 in /usr/local/lib/python3.11/dist-packages (from pydantic<3,>=1.9.0->groq) (0.7.0)\n",
            "Requirement already satisfied: pydantic-core==2.27.2 in /usr/local/lib/python3.11/dist-packages (from pydantic<3,>=1.9.0->groq) (2.27.2)\n",
            "Downloading groq-0.15.0-py3-none-any.whl (109 kB)\n",
            "\u001b[2K   \u001b[90m━━━━━━━━━━━━━━━━━━━━━━━━━━━━━━━━━━━━━━━━\u001b[0m \u001b[32m109.6/109.6 kB\u001b[0m \u001b[31m2.7 MB/s\u001b[0m eta \u001b[36m0:00:00\u001b[0m\n",
            "\u001b[?25hInstalling collected packages: groq\n",
            "Successfully installed groq-0.15.0\n"
          ]
        }
      ]
    },
    {
      "cell_type": "code",
      "source": [
        "import groq"
      ],
      "metadata": {
        "id": "dyug7fOg-ukZ"
      },
      "execution_count": null,
      "outputs": []
    },
    {
      "cell_type": "code",
      "source": [
        "!export GROQ_API_KEY=\"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\"\n",
        "\n"
      ],
      "metadata": {
        "id": "-rq-u7usrVnd"
      },
      "execution_count": null,
      "outputs": []
    },
    {
      "cell_type": "code",
      "source": [
        "import os\n",
        "\n",
        "os.environ[\"GROQ_API_KEY\"] = \"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\"\n",
        "api_key = os.getenv(\"GROQ_API_KEY\")\n"
      ],
      "metadata": {
        "id": "EyKTo_8jum71"
      },
      "execution_count": null,
      "outputs": []
    },
    {
      "cell_type": "code",
      "source": [
        "!pip install python-dotenv\n"
      ],
      "metadata": {
        "colab": {
          "base_uri": "https://localhost:8080/"
        },
        "id": "bjdCqe8EuM6s",
        "outputId": "b8bfd762-df02-4064-fa5f-93c25ebfdbe3"
      },
      "execution_count": null,
      "outputs": [
        {
          "output_type": "stream",
          "name": "stdout",
          "text": [
            "Requirement already satisfied: python-dotenv in /usr/local/lib/python3.11/dist-packages (1.0.1)\n"
          ]
        }
      ]
    },
    {
      "cell_type": "code",
      "source": [
        "import os\n",
        "from dotenv import load_dotenv\n",
        "from groq import Groq\n",
        "\n",
        "\n",
        "load_dotenv()\n",
        "api_key = os.getenv(\"GROQ_API_KEY\")\n",
        "\n",
        "\n",
        "if not api_key:\n",
        "    raise ValueError(\"GROQ_API_KEY environment variable is not set. Please set it before running the script.\")\n",
        "\n",
        "\n",
        "client = Groq(api_key=api_key)\n",
        "\n",
        "def get_sentiment(chat_history):\n",
        "    \"\"\"\n",
        "    Analyze the sentiment of the given chat history using the Groq API.\n",
        "\n",
        "    Parameters:\n",
        "    - chat_history (str): The chat conversation to analyze.\n",
        "\n",
        "    Returns:\n",
        "    - str: The detected sentiment (positive, negative, neutral, or frustrated).\n",
        "    \"\"\"\n",
        "    try:\n",
        "\n",
        "        messages = [\n",
        "            {\n",
        "                \"role\": \"system\",\n",
        "                \"content\": \"\"\"\n",
        "                You are the customer support team assistant responsible for sentiment analysis.\n",
        "                Analyze the sentiment of the given text and categorize it as one of the following:\n",
        "                - Positive\n",
        "                - Negative\n",
        "                - Neutral\n",
        "                - Frustrated\n",
        "                - Positive: When the text expresses satisfaction, happiness, or appreciation.\n",
        "                - Negative: When the text expresses dissatisfaction, disappointment, or anger.\n",
        "                - Neutral: When the text is informative, polite, or just factual, without expressing strong emotion.\n",
        "                - Frustrated: When the text includes strong language, impatience, or expresses feelings of being overwhelmed or upset.\n",
        "\n",
        "                If the user uses strong or offensive language, the sentiment should be classified as 'Negative' or 'Frustrated'.\n",
        "                Do not include any additional reasoning or text other than the sentiment label.\n",
        "                \"\"\"\n",
        "            },\n",
        "            {\"role\": \"user\", \"content\": chat_history}\n",
        "        ]\n",
        "\n",
        "        # API call\n",
        "        completion = client.chat.completions.create(\n",
        "            model=\"llama3-8b-8192\",\n",
        "            messages=messages,\n",
        "            temperature=0,\n",
        "            max_completion_tokens=10,\n",
        "            top_p=1,\n",
        "            stream=False,\n",
        "            stop=None,\n",
        "        )\n",
        "\n",
        "\n",
        "        sentiment_raw = completion.choices[0].message.content.strip()\n",
        "\n",
        "        # possible sentiments\n",
        "        valid_sentiments = ['positive', 'negative', 'neutral', 'frustrated']\n",
        "\n",
        "\n",
        "        sentiment = sentiment_raw.lower()\n",
        "\n",
        "        if sentiment not in valid_sentiments:\n",
        "            sentiment = 'neutral'\n",
        "\n",
        "        return sentiment\n",
        "\n",
        "    except Exception as e:\n",
        "        print(f\"Error during sentiment analysis: {e}\")\n",
        "        return \"error\"\n",
        "\n",
        "# Example usage\n",
        "if __name__ == \"__main__\":\n",
        "    chat_history = \"Customer: go to hell bloody people.\"\n",
        "    sentiment = get_sentiment(chat_history)\n",
        "    print(f\"Detected Sentiment: {sentiment}\")\n"
      ],
      "metadata": {
        "colab": {
          "base_uri": "https://localhost:8080/"
        },
        "id": "F2b-4hnz3jL1",
        "outputId": "e023e025-d2ac-4a84-f521-24b991a6a6bb"
      },
      "execution_count": null,
      "outputs": [
        {
          "output_type": "stream",
          "name": "stdout",
          "text": [
            "Detected Sentiment: frustrated\n"
          ]
        }
      ]
    },
    {
      "cell_type": "code",
      "source": [
        "!pip install pyarrow"
      ],
      "metadata": {
        "colab": {
          "base_uri": "https://localhost:8080/"
        },
        "id": "xD1yluIP0ujA",
        "outputId": "d6156a19-b68a-4ce2-df11-d3b99199ba2f"
      },
      "execution_count": null,
      "outputs": [
        {
          "output_type": "stream",
          "name": "stdout",
          "text": [
            "Requirement already satisfied: pyarrow in /usr/local/lib/python3.11/dist-packages (17.0.0)\n",
            "Requirement already satisfied: numpy>=1.16.6 in /usr/local/lib/python3.11/dist-packages (from pyarrow) (1.26.4)\n"
          ]
        }
      ]
    },
    {
      "cell_type": "code",
      "source": [
        "\n",
        "import pandas as pd\n",
        "try:\n",
        "    df = pd.read_parquet('train-00000-of-00001-a5a7c6e4bb30b016.parquet')\n",
        "    print(\"Parquet file loaded successfully.\")\n",
        "    # print(df.head())  # Print the head to verify\n",
        "except Exception as e:\n",
        "    print(f\"Error loading parquet file: {e}\")"
      ],
      "metadata": {
        "colab": {
          "base_uri": "https://localhost:8080/"
        },
        "id": "uyXCB_YW1Gum",
        "outputId": "b93c0ca3-3c53-42ba-afee-c9f2527e0dc2"
      },
      "execution_count": null,
      "outputs": [
        {
          "output_type": "stream",
          "name": "stdout",
          "text": [
            "Parquet file loaded successfully.\n"
          ]
        }
      ]
    },
    {
      "cell_type": "code",
      "source": [
        "\n",
        "print(df.head())"
      ],
      "metadata": {
        "colab": {
          "base_uri": "https://localhost:8080/"
        },
        "id": "Zd4Q-zN9KyTZ",
        "outputId": "2371ce41-fdd4-442a-aafb-939eb41b09ca"
      },
      "execution_count": null,
      "outputs": [
        {
          "output_type": "stream",
          "name": "stdout",
          "text": [
            "                  issue_area                        issue_category  \\\n",
            "0          Login and Account  Mobile Number and Email Verification   \n",
            "1  Cancellations and returns                   Pickup and Shipping   \n",
            "2  Cancellations and returns        Replacement and Return Process   \n",
            "3          Login and Account       Login Issues and Error Messages   \n",
            "4                      Order                 Order Delivery Issues   \n",
            "\n",
            "                                  issue_sub_category  \\\n",
            "0  Verification requirement for mobile number or ...   \n",
            "1           Reasons for being asked to ship the item   \n",
            "2             Inability to click the 'Cancel' button   \n",
            "3  Error message regarding exceeded attempts to e...   \n",
            "4                       Delivery not attempted again   \n",
            "\n",
            "                         issue_category_sub_category customer_sentiment  \\\n",
            "0  Mobile Number and Email Verification -> Verifi...            neutral   \n",
            "1  Pickup and Shipping -> Reasons for being asked...            neutral   \n",
            "2  Replacement and Return Process -> Inability to...            neutral   \n",
            "3  Login Issues and Error Messages -> Error messa...            neutral   \n",
            "4  Order Delivery Issues -> Delivery not attempte...           negative   \n",
            "\n",
            "  product_category       product_sub_category issue_complexity  \\\n",
            "0       Appliances  Oven Toaster Grills (OTG)           medium   \n",
            "1      Electronics           Computer Monitor             less   \n",
            "2       Appliances       Juicer/Mixer/Grinder           medium   \n",
            "3       Appliances             Water Purifier             less   \n",
            "4      Electronics                 Bp Monitor           medium   \n",
            "\n",
            "  agent_experience_level                        agent_experience_level_desc  \\\n",
            "0                 junior  handles customer inquiries independently, poss...   \n",
            "1                 junior  handles customer inquiries independently, poss...   \n",
            "2            experienced  confidently handles complex customer issues, e...   \n",
            "3          inexperienced  may struggle with ambiguous queries, rely on c...   \n",
            "4            experienced  confidently handles complex customer issues, e...   \n",
            "\n",
            "                                        conversation  \n",
            "0  Agent: Thank you for calling BrownBox Customer...  \n",
            "1  Agent: Thank you for calling BrownBox customer...  \n",
            "2  Agent: Thank you for calling BrownBox Customer...  \n",
            "3  Customer: Hi, I am facing an issue while loggi...  \n",
            "4  Agent: Thank you for contacting BrownBox custo...  \n"
          ]
        }
      ]
    },
    {
      "cell_type": "markdown",
      "metadata": {
        "id": "h3YqBAldPK48"
      },
      "source": []
    },
    {
      "cell_type": "code",
      "source": [
        "res = df.iloc[:30, :].apply(lambda x: get_sentiment(x[\"conversation\"]), axis=1)\n",
        "\n"
      ],
      "metadata": {
        "id": "AA_4XzNjUZvm"
      },
      "execution_count": null,
      "outputs": []
    },
    {
      "cell_type": "code",
      "source": [
        "res"
      ],
      "metadata": {
        "id": "BkyegLot0N_6",
        "colab": {
          "base_uri": "https://localhost:8080/",
          "height": 1000
        },
        "outputId": "285657ea-716c-4ce8-a4d9-4091b5ef00c8"
      },
      "execution_count": null,
      "outputs": [
        {
          "output_type": "execute_result",
          "data": {
            "text/plain": [
              "0        neutral\n",
              "1        neutral\n",
              "2        neutral\n",
              "3        neutral\n",
              "4     frustrated\n",
              "5     frustrated\n",
              "6     frustrated\n",
              "7        neutral\n",
              "8        neutral\n",
              "9       negative\n",
              "10       neutral\n",
              "11       neutral\n",
              "12      negative\n",
              "13       neutral\n",
              "14      negative\n",
              "15      negative\n",
              "16       neutral\n",
              "17      positive\n",
              "18      negative\n",
              "19       neutral\n",
              "20    frustrated\n",
              "21       neutral\n",
              "22       neutral\n",
              "23    frustrated\n",
              "24       neutral\n",
              "25       neutral\n",
              "26       neutral\n",
              "27    frustrated\n",
              "28    frustrated\n",
              "29      negative\n",
              "dtype: object"
            ],
            "text/html": [
              "<div>\n",
              "<style scoped>\n",
              "    .dataframe tbody tr th:only-of-type {\n",
              "        vertical-align: middle;\n",
              "    }\n",
              "\n",
              "    .dataframe tbody tr th {\n",
              "        vertical-align: top;\n",
              "    }\n",
              "\n",
              "    .dataframe thead th {\n",
              "        text-align: right;\n",
              "    }\n",
              "</style>\n",
              "<table border=\"1\" class=\"dataframe\">\n",
              "  <thead>\n",
              "    <tr style=\"text-align: right;\">\n",
              "      <th></th>\n",
              "      <th>0</th>\n",
              "    </tr>\n",
              "  </thead>\n",
              "  <tbody>\n",
              "    <tr>\n",
              "      <th>0</th>\n",
              "      <td>neutral</td>\n",
              "    </tr>\n",
              "    <tr>\n",
              "      <th>1</th>\n",
              "      <td>neutral</td>\n",
              "    </tr>\n",
              "    <tr>\n",
              "      <th>2</th>\n",
              "      <td>neutral</td>\n",
              "    </tr>\n",
              "    <tr>\n",
              "      <th>3</th>\n",
              "      <td>neutral</td>\n",
              "    </tr>\n",
              "    <tr>\n",
              "      <th>4</th>\n",
              "      <td>frustrated</td>\n",
              "    </tr>\n",
              "    <tr>\n",
              "      <th>5</th>\n",
              "      <td>frustrated</td>\n",
              "    </tr>\n",
              "    <tr>\n",
              "      <th>6</th>\n",
              "      <td>frustrated</td>\n",
              "    </tr>\n",
              "    <tr>\n",
              "      <th>7</th>\n",
              "      <td>neutral</td>\n",
              "    </tr>\n",
              "    <tr>\n",
              "      <th>8</th>\n",
              "      <td>neutral</td>\n",
              "    </tr>\n",
              "    <tr>\n",
              "      <th>9</th>\n",
              "      <td>negative</td>\n",
              "    </tr>\n",
              "    <tr>\n",
              "      <th>10</th>\n",
              "      <td>neutral</td>\n",
              "    </tr>\n",
              "    <tr>\n",
              "      <th>11</th>\n",
              "      <td>neutral</td>\n",
              "    </tr>\n",
              "    <tr>\n",
              "      <th>12</th>\n",
              "      <td>negative</td>\n",
              "    </tr>\n",
              "    <tr>\n",
              "      <th>13</th>\n",
              "      <td>neutral</td>\n",
              "    </tr>\n",
              "    <tr>\n",
              "      <th>14</th>\n",
              "      <td>negative</td>\n",
              "    </tr>\n",
              "    <tr>\n",
              "      <th>15</th>\n",
              "      <td>negative</td>\n",
              "    </tr>\n",
              "    <tr>\n",
              "      <th>16</th>\n",
              "      <td>neutral</td>\n",
              "    </tr>\n",
              "    <tr>\n",
              "      <th>17</th>\n",
              "      <td>positive</td>\n",
              "    </tr>\n",
              "    <tr>\n",
              "      <th>18</th>\n",
              "      <td>negative</td>\n",
              "    </tr>\n",
              "    <tr>\n",
              "      <th>19</th>\n",
              "      <td>neutral</td>\n",
              "    </tr>\n",
              "    <tr>\n",
              "      <th>20</th>\n",
              "      <td>frustrated</td>\n",
              "    </tr>\n",
              "    <tr>\n",
              "      <th>21</th>\n",
              "      <td>neutral</td>\n",
              "    </tr>\n",
              "    <tr>\n",
              "      <th>22</th>\n",
              "      <td>neutral</td>\n",
              "    </tr>\n",
              "    <tr>\n",
              "      <th>23</th>\n",
              "      <td>frustrated</td>\n",
              "    </tr>\n",
              "    <tr>\n",
              "      <th>24</th>\n",
              "      <td>neutral</td>\n",
              "    </tr>\n",
              "    <tr>\n",
              "      <th>25</th>\n",
              "      <td>neutral</td>\n",
              "    </tr>\n",
              "    <tr>\n",
              "      <th>26</th>\n",
              "      <td>neutral</td>\n",
              "    </tr>\n",
              "    <tr>\n",
              "      <th>27</th>\n",
              "      <td>frustrated</td>\n",
              "    </tr>\n",
              "    <tr>\n",
              "      <th>28</th>\n",
              "      <td>frustrated</td>\n",
              "    </tr>\n",
              "    <tr>\n",
              "      <th>29</th>\n",
              "      <td>negative</td>\n",
              "    </tr>\n",
              "  </tbody>\n",
              "</table>\n",
              "</div><br><label><b>dtype:</b> object</label>"
            ]
          },
          "metadata": {},
          "execution_count": 16
        }
      ]
    },
    {
      "cell_type": "code",
      "source": [
        "# prompt:  make 4x4 confusion matrix using df[\"customer_sentiment\"] and res, they have these possible values: 'neutral', 'negative', 'frustrated', 'positive'\n",
        "\n",
        "import pandas as pd\n",
        "from sklearn.metrics import confusion_matrix\n",
        "import seaborn as sns\n",
        "import matplotlib.pyplot as plt\n",
        "\n",
        "# Assuming 'df[\"customer_sentiment\"]' and 'res' are already defined as in your provided code\n",
        "\n",
        "# Ensure both series have the same length\n",
        "min_len = min(len(df[\"customer_sentiment\"]), len(res))\n",
        "df_truncated = df[\"customer_sentiment\"][:min_len]\n",
        "res_truncated = res[:min_len]\n",
        "\n",
        "# Create the confusion matrix\n",
        "cm = confusion_matrix(df_truncated, res_truncated, labels=['neutral', 'negative', 'frustrated', 'positive'])\n",
        "\n",
        "# Plot the confusion matrix using seaborn\n",
        "plt.figure(figsize=(8, 6))\n",
        "sns.heatmap(cm, annot=True, fmt=\"d\", cmap=\"Blues\",\n",
        "            xticklabels=['neutral', 'negative', 'frustrated', 'positive'],\n",
        "            yticklabels=['neutral', 'negative', 'frustrated', 'positive'])\n",
        "plt.xlabel(\"Predicted\")\n",
        "plt.ylabel(\"True\")\n",
        "plt.title(\"Confusion Matrix\")\n",
        "plt.show()"
      ],
      "metadata": {
        "id": "Y_dwsGmO2r8V",
        "colab": {
          "base_uri": "https://localhost:8080/",
          "height": 564
        },
        "outputId": "432d5ce2-4323-4648-d6af-adc48a4236bb"
      },
      "execution_count": null,
      "outputs": [
        {
          "output_type": "display_data",
          "data": {
            "text/plain": [
              "<Figure size 800x600 with 2 Axes>"
            ],
            "image/png": "[encoded data removed]"
          },
          "metadata": {}
        }
      ]
    },
    {
      "cell_type": "code",
      "source": [
        "# prompt: from above calculate f1 score for every 'customer_sentiment' category also calculate Macro-average  F1 score\n",
        "# Weighted-average F1 score\n",
        "\n",
        "from sklearn.metrics import f1_score\n",
        "\n",
        "# Assuming df_truncated and res_truncated are defined as in the previous code\n",
        "# Calculate F1 score for each category\n",
        "f1_scores = f1_score(df_truncated, res_truncated, average=None, labels=['neutral', 'negative', 'frustrated', 'positive'])\n",
        "\n",
        "# Print F1 scores for individual categories\n",
        "for i, label in enumerate(['neutral', 'negative', 'frustrated', 'positive']):\n",
        "    print(f\"F1 Score for {label}: {f1_scores[i]}\")\n",
        "\n",
        "# Calculate Macro-average F1 score\n",
        "macro_f1 = f1_score(df_truncated, res_truncated, average='macro')\n",
        "print(f\"\\nMacro-average F1 Score: {macro_f1}\")\n",
        "\n",
        "# Calculate Weighted-average F1 score\n",
        "weighted_f1 = f1_score(df_truncated, res_truncated, average='weighted')\n",
        "print(f\"Weighted-average F1 Score: {weighted_f1}\")"
      ],
      "metadata": {
        "colab": {
          "base_uri": "https://localhost:8080/"
        },
        "id": "HriMK1klvl9Z",
        "outputId": "fca20e51-0230-49f5-d6c6-c427eabfcc6b"
      },
      "execution_count": null,
      "outputs": [
        {
          "output_type": "stream",
          "name": "stdout",
          "text": [
            "F1 Score for neutral: 0.9375\n",
            "F1 Score for negative: 0.4444444444444444\n",
            "F1 Score for frustrated: 0.2222222222222222\n",
            "F1 Score for positive: 0.0\n",
            "\n",
            "Macro-average F1 Score: 0.40104166666666663\n",
            "Weighted-average F1 Score: 0.6925925925925926\n"
          ]
        }
      ]
    },
    {
      "cell_type": "code",
      "source": [
        "\n",
        "'''\n",
        "n=10\n",
        "F1 Score for neutral: 0.9090909090909091\n",
        "F1 Score for negative: 0.0\n",
        "F1 Score for frustrated: 0.4\n",
        "F1 Score for positive: 0.0\n",
        "\n",
        "Macro-average F1 Score: 0.43636363636363634\n",
        "Weighted-average F1 Score: 0.4945454545454545\n",
        "n=30\n",
        "F1 Score for neutral: 0.9142857142857143\n",
        "F1 Score for negative: 0.0\n",
        "F1 Score for frustrated: 0.3076923076923077\n",
        "F1 Score for positive: 0.0\n",
        "\n",
        "Macro-average F1 Score: 0.4073260073260074\n",
        "Weighted-average F1 Score: 0.5081318681318681\n",
        "\n",
        "F1 Score for neutral: 0.8823529411764706\n",
        "F1 Score for negative: 0.4444444444444444\n",
        "F1 Score for frustrated: 0.25\n",
        "F1 Score for positive: 0.0\n",
        "\n",
        "Macro-average F1 Score: 0.525599128540305\n",
        "Weighted-average F1 Score: 0.6650326797385621\n",
        "\n",
        "F1 Score for neutral: 0.9375\n",
        "F1 Score for negative: 0.4444444444444444\n",
        "F1 Score for frustrated: 0.2222222222222222\n",
        "F1 Score for positive: 0.0\n",
        "\n",
        "Macro-average F1 Score: 0.40104166666666663\n",
        "Weighted-average F1 Score: 0.6925925925925926\n",
        "\n",
        "\n",
        "\n",
        "'''"
      ],
      "metadata": {
        "id": "PlSmEd5Jwgzn"
      },
      "execution_count": null,
      "outputs": []
    }
  ],
  "metadata": {
    "colab": {
      "provenance": []
    },
    "kernelspec": {
      "display_name": "Python 3",
      "name": "python3"
    },
    "language_info": {
      "name": "python"
    }
  },
  "nbformat": 4,
  "nbformat_minor": 0
}
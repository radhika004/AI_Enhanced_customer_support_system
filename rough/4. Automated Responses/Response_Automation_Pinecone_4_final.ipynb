{
  "nbformat": 4,
  "nbformat_minor": 0,
  "metadata": {
    "colab": {
      "provenance": []
    },
    "kernelspec": {
      "name": "python3",
      "display_name": "Python 3"
    },
    "language_info": {
      "name": "python"
    }
  },
  "cells": [
    {
      "cell_type": "code",
      "source": [
        "import os\n",
        "from pinecone import Pinecone, ServerlessSpec\n",
        "\n",
        "\n",
        "pc = Pinecone(api_key=\"pcsk_2bhDrj_71BTyJqtUyjLFsufHZfnDHeSuLVFx4yATrd1eLWnq6mQkJM9LGD6Cwg4R11hbrG\")\n",
        "\n",
        "if \"cutomer\" not in pc.list_indexes().names():\n",
        "    pc.create_index(\n",
        "        name=\"cutomer\",\n",
        "        dimension=384,\n",
        "        metric=\"cosine\",\n",
        "        spec=ServerlessSpec(cloud=\"aws\", region=\"us-west-2\")\n",
        "    )\n",
        "\n",
        "\n",
        "index = pc.Index(\"cutomer\")\n",
        "\n"
      ],
      "metadata": {
        "id": "ZxNt47cv423v"
      },
      "execution_count": null,
      "outputs": []
    },
    {
      "cell_type": "code",
      "source": [
        "from pinecone import Pinecone\n",
        "\n",
        "pc = Pinecone(api_key=\"pcsk_2bhDrj_71BTyJqtUyjLFsufHZfnDHeSuLVFx4yATrd1eLWnq6mQkJM9LGD6Cwg4R11hbrG\")\n",
        "index = pc.Index(\"cutomer\")"
      ],
      "metadata": {
        "id": "kJczrdGCzACx"
      },
      "execution_count": null,
      "outputs": []
    },
    {
      "cell_type": "code",
      "source": [
        "import os\n",
        "from pinecone import Pinecone\n",
        "from sentence_transformers import SentenceTransformer\n",
        "\n",
        "\n",
        "pc = Pinecone(api_key=\"pcsk_2bhDrj_71BTyJqtUyjLFsufHZfnDHeSuLVFx4yATrd1eLWnq6mQkJM9LGD6Cwg4R11hbrG\")\n",
        "index_name = \"customer\"\n",
        "\n",
        "if index_name not in pc.list_indexes().names():\n",
        "    pc.create_index(\n",
        "        name=index_name,\n",
        "        dimension=384,\n",
        "        metric=\"cosine\",\n",
        "\n",
        "    )\n",
        "\n",
        "\n",
        "index = pc.Index(index_name)\n",
        "\n",
        "\n",
        "model = SentenceTransformer('all-MiniLM-L6-v2')\n",
        "\n",
        "\n",
        "def generate_embedding(text):\n",
        "    return model.encode(text).tolist()\n",
        "\n",
        "\n",
        "vectors = [\n",
        "    {\n",
        "        \"id\": \"vec1\",\n",
        "        \"values\": generate_embedding(\"Thank you for contacting us regarding the connectivity issue you're experiencing with {product_name} ({issue_description}). To resolve this, please try the following troubleshooting steps: 1. Restart your modem/router. 2. Check the cable connections and ensure everything is secure. 3. Confirm that your service plan is active and there are no outstanding dues. If the issue persists after these steps, please let us know, and we will escalate this to our technical team for further investigation. Best regards, {company_name} Support Team\"),\n",
        "        \"metadata\": {\"issue\": \"Connectivity issue troubleshooting steps\"}\n",
        "    },\n",
        "    {\n",
        "        \"id\": \"vec2\",\n",
        "        \"values\": generate_embedding(\"Dear {customer_name}, Thank you for contacting us about the billing issue with {product_name}. We are sorry for the inconvenience caused. We have reviewed your account, and it seems the issue is related to {billing_issue}. Please allow us {processing_time} business days to investigate further. We will notify you once the issue has been resolved. If you have any urgent concerns, feel free to contact us. Best regards, {company_name} Billing Support\"),\n",
        "        \"metadata\": {\"issue\": \"Billing issue response\"}\n",
        "    }\n",
        "]\n",
        "\n",
        "\n",
        "index.upsert(\n",
        "    vectors=vectors,\n",
        "    namespace=\"ns1\"\n",
        ")\n",
        "\n",
        "print(\"Data upserted successfully!\")\n",
        "\n",
        "# Incoming issue text\n",
        "incoming_issue = \"Customer is experiencing issues with connectivity on the product.\"\n",
        "\n",
        "# Generate the embedding for the incoming issue\n",
        "incoming_embedding = generate_embedding(incoming_issue)\n",
        "\n",
        "# Perform similarity search to find the most similar issues in the index\n",
        "results = index.query(\n",
        "    vector=incoming_embedding,\n",
        "    top_k=3,\n",
        "    include_metadata=True,\n",
        "    namespace=\"ns1\"\n",
        ")\n",
        "\n",
        "# Display results\n",
        "for result in results['matches']:\n",
        "    print(f\"ID: {result['id']}, Similarity Score: {result['score']}, Issue: {result['metadata']['issue']}\")\n"
      ],
      "metadata": {
        "colab": {
          "base_uri": "https://localhost:8080/"
        },
        "id": "TyF1z8r54ZTy",
        "outputId": "18e64144-1600-4a0b-bca2-19f073918bae"
      },
      "execution_count": null,
      "outputs": [
        {
          "output_type": "stream",
          "name": "stdout",
          "text": [
            "Data upserted successfully!\n"
          ]
        }
      ]
    },
    {
      "cell_type": "markdown",
      "source": [],
      "metadata": {
        "id": "wAwFhgoHZnQn"
      }
    }
  ]
}